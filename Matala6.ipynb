{
 "cells": [
  {
   "cell_type": "code",
   "execution_count": 19,
   "metadata": {
    "id": "yVfmAHLJwFDx"
   },
   "outputs": [],
   "source": [
    "import pandas as pd\n",
    "from tabulate import tabulate"
   ]
  },
  {
   "cell_type": "code",
   "execution_count": 4,
   "metadata": {
    "id": "WHNZHJ0CwKnO"
   },
   "outputs": [],
   "source": [
    "df = pd.read_csv('LP_destinations.csv')"
   ]
  },
  {
   "cell_type": "code",
   "execution_count": 5,
   "metadata": {
    "id": "fTPAtF3owm6m"
   },
   "outputs": [],
   "source": [
    "df['num_of_words'] = df['description'].str.split().str.len()"
   ]
  },
  {
   "cell_type": "code",
   "execution_count": 6,
   "metadata": {
    "colab": {
     "base_uri": "https://localhost:8080/"
    },
    "id": "8rMogee7xnsI",
    "outputId": "a17e5d28-8518-4554-dc68-6dc06b0d1fc8"
   },
   "outputs": [
    {
     "name": "stderr",
     "output_type": "stream",
     "text": [
      "<ipython-input-6-e316c6d7ea03>:1: FutureWarning: The default value of regex will change from True to False in a future version.\n",
      "  df['No_punct_description'] = df['description'].str.replace('[^\\w\\s]','').replace(r'\\n',' ', regex=True)\n"
     ]
    }
   ],
   "source": [
    "df['No_punct_description'] = df['description'].str.replace('[^\\w\\s]','').replace(r'\\n',' ', regex=True)"
   ]
  },
  {
   "cell_type": "code",
   "execution_count": 103,
   "metadata": {
    "id": "HITU0SL0yXX7"
   },
   "outputs": [],
   "source": [
    "df['has_restaurants'] = df['description'].str.count(r\"\\b(restaurant)\\b\")\n",
    "# df['has_restaurants'] = df['description'].str.count('restaurant')"
   ]
  },
  {
   "cell_type": "code",
   "execution_count": 7,
   "metadata": {
    "id": "-plvmOXxz3VP"
   },
   "outputs": [],
   "source": [
    "df['has_museums'] = df['description'].str.count(r\"\\b(museum)\\b\")\n",
    "# df['has_museums'] = df['description'].str.count(\"museum\")"
   ]
  },
  {
   "cell_type": "code",
   "execution_count": 22,
   "metadata": {
    "id": "pm1LCHBY0_R5"
   },
   "outputs": [
    {
     "data": {
      "text/html": [
       "<div>\n",
       "<style scoped>\n",
       "    .dataframe tbody tr th:only-of-type {\n",
       "        vertical-align: middle;\n",
       "    }\n",
       "\n",
       "    .dataframe tbody tr th {\n",
       "        vertical-align: top;\n",
       "    }\n",
       "\n",
       "    .dataframe thead th {\n",
       "        text-align: right;\n",
       "    }\n",
       "</style>\n",
       "<table border=\"1\" class=\"dataframe\">\n",
       "  <thead>\n",
       "    <tr style=\"text-align: right;\">\n",
       "      <th></th>\n",
       "      <th>city</th>\n",
       "      <th>country</th>\n",
       "      <th>description</th>\n",
       "      <th>num_of_words</th>\n",
       "      <th>No_punct_description</th>\n",
       "      <th>has_museums</th>\n",
       "      <th>has_beaches</th>\n",
       "    </tr>\n",
       "  </thead>\n",
       "  <tbody>\n",
       "    <tr>\n",
       "      <th>0</th>\n",
       "      <td>Antalya</td>\n",
       "      <td>Turkey</td>\n",
       "      <td>Once seen simply as the gateway to the Turkish...</td>\n",
       "      <td>112.0</td>\n",
       "      <td>Once seen simply as the gateway to the Turkish...</td>\n",
       "      <td>0.0</td>\n",
       "      <td>0.0</td>\n",
       "    </tr>\n",
       "    <tr>\n",
       "      <th>1</th>\n",
       "      <td>Athens</td>\n",
       "      <td>Greece</td>\n",
       "      <td>With equal measures of grunge and grace, Athen...</td>\n",
       "      <td>393.0</td>\n",
       "      <td>With equal measures of grunge and grace Athens...</td>\n",
       "      <td>0.0</td>\n",
       "      <td>0.0</td>\n",
       "    </tr>\n",
       "    <tr>\n",
       "      <th>2</th>\n",
       "      <td>Ayia-napa</td>\n",
       "      <td>Cyprus</td>\n",
       "      <td>Endless blue-sky days and a coastline riddled ...</td>\n",
       "      <td>147.0</td>\n",
       "      <td>Endless bluesky days and a coastline riddled w...</td>\n",
       "      <td>0.0</td>\n",
       "      <td>1.0</td>\n",
       "    </tr>\n",
       "    <tr>\n",
       "      <th>3</th>\n",
       "      <td>Bangkok</td>\n",
       "      <td>Thailand</td>\n",
       "      <td>Same same, but different. This Thailish T-shir...</td>\n",
       "      <td>398.0</td>\n",
       "      <td>Same same but different This Thailish Tshirt p...</td>\n",
       "      <td>0.0</td>\n",
       "      <td>0.0</td>\n",
       "    </tr>\n",
       "    <tr>\n",
       "      <th>4</th>\n",
       "      <td>Barcelona</td>\n",
       "      <td>Spain</td>\n",
       "      <td>Barcelona is an enchanting seaside city with b...</td>\n",
       "      <td>427.0</td>\n",
       "      <td>Barcelona is an enchanting seaside city with b...</td>\n",
       "      <td>0.0</td>\n",
       "      <td>1.0</td>\n",
       "    </tr>\n",
       "    <tr>\n",
       "      <th>...</th>\n",
       "      <td>...</td>\n",
       "      <td>...</td>\n",
       "      <td>...</td>\n",
       "      <td>...</td>\n",
       "      <td>...</td>\n",
       "      <td>...</td>\n",
       "      <td>...</td>\n",
       "    </tr>\n",
       "    <tr>\n",
       "      <th>71</th>\n",
       "      <td>Venice</td>\n",
       "      <td>Italy</td>\n",
       "      <td>Imagine the audacity of building a city of mar...</td>\n",
       "      <td>420.0</td>\n",
       "      <td>Imagine the audacity of building a city of mar...</td>\n",
       "      <td>0.0</td>\n",
       "      <td>0.0</td>\n",
       "    </tr>\n",
       "    <tr>\n",
       "      <th>72</th>\n",
       "      <td>Vienna</td>\n",
       "      <td>Austria</td>\n",
       "      <td>Baroque streetscapes and imperial palaces set ...</td>\n",
       "      <td>418.0</td>\n",
       "      <td>Baroque streetscapes and imperial palaces set ...</td>\n",
       "      <td>1.0</td>\n",
       "      <td>0.0</td>\n",
       "    </tr>\n",
       "    <tr>\n",
       "      <th>73</th>\n",
       "      <td>Warsaw</td>\n",
       "      <td>Poland</td>\n",
       "      <td>A phoenix arisen from the ashes, Poland's capi...</td>\n",
       "      <td>406.0</td>\n",
       "      <td>A phoenix arisen from the ashes Polands capita...</td>\n",
       "      <td>1.0</td>\n",
       "      <td>0.0</td>\n",
       "    </tr>\n",
       "    <tr>\n",
       "      <th>74</th>\n",
       "      <td>Zakynthos</td>\n",
       "      <td>Greece</td>\n",
       "      <td>Zakynthos, also known by its Italian name Zant...</td>\n",
       "      <td>118.0</td>\n",
       "      <td>Zakynthos also known by its Italian name Zante...</td>\n",
       "      <td>0.0</td>\n",
       "      <td>0.0</td>\n",
       "    </tr>\n",
       "    <tr>\n",
       "      <th>75</th>\n",
       "      <td>Zurich</td>\n",
       "      <td>Switzerland</td>\n",
       "      <td>Culturally vibrant, efficiently run and attrac...</td>\n",
       "      <td>119.0</td>\n",
       "      <td>Culturally vibrant efficiently run and attract...</td>\n",
       "      <td>0.0</td>\n",
       "      <td>0.0</td>\n",
       "    </tr>\n",
       "  </tbody>\n",
       "</table>\n",
       "<p>76 rows × 7 columns</p>\n",
       "</div>"
      ],
      "text/plain": [
       "         city      country                                        description  \\\n",
       "0     Antalya       Turkey  Once seen simply as the gateway to the Turkish...   \n",
       "1      Athens       Greece  With equal measures of grunge and grace, Athen...   \n",
       "2   Ayia-napa       Cyprus  Endless blue-sky days and a coastline riddled ...   \n",
       "3     Bangkok     Thailand  Same same, but different. This Thailish T-shir...   \n",
       "4   Barcelona        Spain  Barcelona is an enchanting seaside city with b...   \n",
       "..        ...          ...                                                ...   \n",
       "71     Venice        Italy  Imagine the audacity of building a city of mar...   \n",
       "72     Vienna      Austria  Baroque streetscapes and imperial palaces set ...   \n",
       "73     Warsaw       Poland  A phoenix arisen from the ashes, Poland's capi...   \n",
       "74  Zakynthos       Greece  Zakynthos, also known by its Italian name Zant...   \n",
       "75     Zurich  Switzerland  Culturally vibrant, efficiently run and attrac...   \n",
       "\n",
       "    num_of_words                               No_punct_description  \\\n",
       "0          112.0  Once seen simply as the gateway to the Turkish...   \n",
       "1          393.0  With equal measures of grunge and grace Athens...   \n",
       "2          147.0  Endless bluesky days and a coastline riddled w...   \n",
       "3          398.0  Same same but different This Thailish Tshirt p...   \n",
       "4          427.0  Barcelona is an enchanting seaside city with b...   \n",
       "..           ...                                                ...   \n",
       "71         420.0  Imagine the audacity of building a city of mar...   \n",
       "72         418.0  Baroque streetscapes and imperial palaces set ...   \n",
       "73         406.0  A phoenix arisen from the ashes Polands capita...   \n",
       "74         118.0  Zakynthos also known by its Italian name Zante...   \n",
       "75         119.0  Culturally vibrant efficiently run and attract...   \n",
       "\n",
       "    has_museums  has_beaches  \n",
       "0           0.0          0.0  \n",
       "1           0.0          0.0  \n",
       "2           0.0          1.0  \n",
       "3           0.0          0.0  \n",
       "4           0.0          1.0  \n",
       "..          ...          ...  \n",
       "71          0.0          0.0  \n",
       "72          1.0          0.0  \n",
       "73          1.0          0.0  \n",
       "74          0.0          0.0  \n",
       "75          0.0          0.0  \n",
       "\n",
       "[76 rows x 7 columns]"
      ]
     },
     "execution_count": 22,
     "metadata": {},
     "output_type": "execute_result"
    }
   ],
   "source": [
    "df['has_beaches'] = df['description'].str.count(r\"\\b(beach|ocean|sea)\\b\")\n",
    "# df['has_beaches'] = df['description'].str.count(\"(beach|ocean|sea)\")\n",
    "df"
   ]
  },
  {
   "cell_type": "code",
   "execution_count": 9,
   "metadata": {
    "colab": {
     "base_uri": "https://localhost:8080/"
    },
    "id": "VdSoGvtP2OvR",
    "outputId": "b2682ea2-f1ca-41a8-db3e-62f0e6ab2e63"
   },
   "outputs": [
    {
     "name": "stdout",
     "output_type": "stream",
     "text": [
      "Average number of words in the description: 264.45714285714286\n"
     ]
    }
   ],
   "source": [
    "print(f\"Average number of words in the description: {df['num_of_words'].mean()}\")"
   ]
  },
  {
   "cell_type": "code",
   "execution_count": 10,
   "metadata": {
    "colab": {
     "base_uri": "https://localhost:8080/"
    },
    "id": "ddEykqyq2rb3",
    "outputId": "994420d7-e5a7-4252-e490-5b599c3142a2"
   },
   "outputs": [
    {
     "name": "stdout",
     "output_type": "stream",
     "text": [
      "City with longest description: Florence\n"
     ]
    }
   ],
   "source": [
    "print(f\"City with longest description: {df.loc[df['num_of_words'].idxmax()]['city']}\")"
   ]
  },
  {
   "cell_type": "code",
   "execution_count": 108,
   "metadata": {
    "colab": {
     "base_uri": "https://localhost:8080/",
     "height": 284
    },
    "id": "mnMc3s8e5t5E",
    "outputId": "a1ea85c1-6742-4b60-a2b8-c9efcd1f9144"
   },
   "outputs": [
    {
     "data": {
      "text/plain": [
       "<matplotlib.axes._subplots.AxesSubplot at 0x7f9e50d95990>"
      ]
     },
     "execution_count": 108,
     "metadata": {},
     "output_type": "execute_result"
    },
    {
     "data": {
      "image/png": "[encoded data removed]",
      "text/plain": [
       "<Figure size 432x288 with 1 Axes>"
      ]
     },
     "metadata": {
      "needs_background": "light"
     },
     "output_type": "display_data"
    }
   ],
   "source": [
    "df['num_of_words'].hist()"
   ]
  },
  {
   "cell_type": "code",
   "execution_count": 109,
   "metadata": {
    "colab": {
     "base_uri": "https://localhost:8080/",
     "height": 298
    },
    "id": "5CvQJDu754YP",
    "outputId": "4d64e1ac-cd62-4e26-a502-94af385a8580"
   },
   "outputs": [
    {
     "data": {
      "text/plain": [
       "<matplotlib.axes._subplots.AxesSubplot at 0x7f9e50d279d0>"
      ]
     },
     "execution_count": 109,
     "metadata": {},
     "output_type": "execute_result"
    },
    {
     "data": {
      "image/png": "[encoded data removed]",
      "text/plain": [
       "<Figure size 432x288 with 1 Axes>"
      ]
     },
     "metadata": {
      "needs_background": "light"
     },
     "output_type": "display_data"
    }
   ],
   "source": [
    "df.plot.scatter(x='has_beaches', y='has_restaurants', c='DarkBlue')"
   ]
  },
  {
   "cell_type": "code",
   "execution_count": 110,
   "metadata": {
    "colab": {
     "base_uri": "https://localhost:8080/",
     "height": 298
    },
    "id": "u2eT9Fda6OCU",
    "outputId": "3d1d3126-28d4-4952-e95e-577639c9b0c1"
   },
   "outputs": [
    {
     "data": {
      "text/plain": [
       "<matplotlib.axes._subplots.AxesSubplot at 0x7f9e50d17990>"
      ]
     },
     "execution_count": 110,
     "metadata": {},
     "output_type": "execute_result"
    },
    {
     "data": {
      "image/png": "[encoded data removed]",
      "text/plain": [
       "<Figure size 432x288 with 1 Axes>"
      ]
     },
     "metadata": {
      "needs_background": "light"
     },
     "output_type": "display_data"
    }
   ],
   "source": [
    "df.plot.scatter(x='has_museums', y='has_beaches', c='DarkBlue')"
   ]
  }
 ],
 "metadata": {
  "colab": {
   "name": "Shilat's Assignment 2.ipynb",
   "provenance": []
  },
  "kernelspec": {
   "display_name": "Python 3",
   "language": "python",
   "name": "python3"
  },
  "language_info": {
   "codemirror_mode": {
    "name": "ipython",
    "version": 3
   },
   "file_extension": ".py",
   "mimetype": "text/x-python",
   "name": "python",
   "nbconvert_exporter": "python",
   "pygments_lexer": "ipython3",
   "version": "3.8.8"
  }
 },
 "nbformat": 4,
 "nbformat_minor": 1
}
